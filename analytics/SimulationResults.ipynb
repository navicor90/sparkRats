{
 "cells": [
  {
   "cell_type": "code",
   "execution_count": 1,
   "metadata": {},
   "outputs": [],
   "source": [
    "%matplotlib notebook\n",
    "import pandas as pd\n",
    "import os\n",
    "from datetime import datetime"
   ]
  },
  {
   "cell_type": "markdown",
   "metadata": {},
   "source": [
    "## Defining spark-rats export info"
   ]
  },
  {
   "cell_type": "code",
   "execution_count": 2,
   "metadata": {},
   "outputs": [
    {
     "data": {
      "text/plain": [
       "['2020-07-27 04:44']"
      ]
     },
     "execution_count": 2,
     "metadata": {},
     "output_type": "execute_result"
    }
   ],
   "source": [
    "export_path = \"../export\"\n",
    "df_files = [\"border_info.parquet\",\"infecteds_history.parquet\",\"infected_tiles.parquet\"]\n",
    "\n",
    "dates = os.listdir(export_path)\n",
    "dates"
   ]
  },
  {
   "cell_type": "markdown",
   "metadata": {},
   "source": [
    "## Reading spark-rats data"
   ]
  },
  {
   "cell_type": "code",
   "execution_count": 3,
   "metadata": {},
   "outputs": [],
   "source": [
    "date_file_format = '%Y-%m-%d %H:%M'\n",
    "\n",
    "def df_info_to_dict(df):\n",
    "    return df.T.to_dict()[0]\n",
    "\n",
    "def read_stat_df(parquet_stat, date_dir, export_dir=\"../export\"):\n",
    "    parquet_dir = f\"{export_dir}/{date_dir}/{parquet_stat}\"\n",
    "    \n",
    "    # We need spark repartition to just one file on save stats data\n",
    "    parquet_files = [f for f in os.listdir(parquet_dir) if f.endswith(\".parquet\")]\n",
    "    df = pd.read_parquet(f\"{parquet_dir}/{parquet_files[0]}\")\n",
    "    df['creation_date'] = datetime.strptime(d, date_file_format)\n",
    "    \n",
    "    # cast single row info dataframes to dict\n",
    "    if len(df) == 1:\n",
    "        df = df_info_to_dict(df)\n",
    "    return df"
   ]
  },
  {
   "cell_type": "code",
   "execution_count": 4,
   "metadata": {},
   "outputs": [],
   "source": [
    "simulations = {}\n",
    "for d in dates:\n",
    "    simulation_date = datetime.strptime(d, date_file_format)\n",
    "    simulations[d] = {\"date\":simulation_date}\n",
    "    for dff in df_files:\n",
    "        simulations[d][dff] = read_stat_df(dff, d)"
   ]
  },
  {
   "cell_type": "code",
   "execution_count": 5,
   "metadata": {},
   "outputs": [
    {
     "name": "stdout",
     "output_type": "stream",
     "text": [
      "sim_dates:\n",
      "['2020-07-27 04:44']\n",
      "\n",
      "\n",
      "df_files:\n",
      "['border_info.parquet', 'infecteds_history.parquet', 'infected_tiles.parquet']\n"
     ]
    }
   ],
   "source": [
    "sims_dates = list(simulations.keys())\n",
    "print(\"sim_dates:\")\n",
    "print(sims_dates)\n",
    "print(\"\\n\")\n",
    "print(\"df_files:\")\n",
    "print(df_files)"
   ]
  },
  {
   "cell_type": "code",
   "execution_count": null,
   "metadata": {},
   "outputs": [],
   "source": [
    "simulations[sims_dates[3]][\"border_info.parquet\"]"
   ]
  },
  {
   "cell_type": "code",
   "execution_count": null,
   "metadata": {},
   "outputs": [],
   "source": [
    "last_simulation = simulations[sims_dates[1]]"
   ]
  },
  {
   "cell_type": "markdown",
   "metadata": {},
   "source": [
    "## Printing infected tiles"
   ]
  },
  {
   "cell_type": "code",
   "execution_count": null,
   "metadata": {},
   "outputs": [],
   "source": [
    "df = last_simulation[\"infected_tiles.parquet\"]\n",
    "df.head(3)"
   ]
  },
  {
   "cell_type": "code",
   "execution_count": null,
   "metadata": {},
   "outputs": [],
   "source": [
    "from mpl_toolkits.mplot3d import Axes3D\n",
    "import matplotlib.pyplot as plt\n",
    "import numpy as np\n",
    "\n",
    "fig = plt.figure(figsize=(8, 3))\n",
    "ax1 = fig.add_subplot(121, projection='3d')\n",
    "\n",
    "x,y = df.tile_x, df.tile_y\n",
    "top = df.infected\n",
    "bottom = np.zeros_like(top)\n",
    "width = depth = 2\n",
    "\n",
    "ax1.bar3d(x, y, bottom, width, depth, top, shade=True)\n",
    "ax1.set_title('Infecteds Areas')"
   ]
  },
  {
   "cell_type": "markdown",
   "metadata": {},
   "source": [
    "## Infected Tiles - evolution "
   ]
  },
  {
   "cell_type": "code",
   "execution_count": null,
   "metadata": {},
   "outputs": [],
   "source": [
    "frames = []\n",
    "for s in sims_dates:\n",
    "    infected_tiles = simulations[s][\"infected_tiles.parquet\"]\n",
    "    infected_tiles['creation_str'] = s\n",
    "    frames.append(infected_tiles)\n",
    "all_infected_tiles = pd.concat(frames).sort_values(\"creation_date\",ascending=True).reset_index()"
   ]
  },
  {
   "cell_type": "code",
   "execution_count": null,
   "metadata": {},
   "outputs": [],
   "source": [
    "all_infected_tiles.head(3)"
   ]
  },
  {
   "cell_type": "code",
   "execution_count": null,
   "metadata": {},
   "outputs": [],
   "source": []
  },
  {
   "cell_type": "code",
   "execution_count": null,
   "metadata": {},
   "outputs": [],
   "source": [
    "import plotly.express as px\n",
    "\n",
    "all_infected_tiles['infected_px'] = all_infected_tiles.infected*1\n",
    "\n",
    "px.scatter(all_infected_tiles, x=\"tile_x\", y=\"tile_y\", animation_frame=\"creation_str\",\n",
    "           size=\"infected_px\", hover_name=\"infected\",\n",
    "            size_max=10, range_x=[0,200], range_y=[0,200])"
   ]
  },
  {
   "cell_type": "code",
   "execution_count": null,
   "metadata": {},
   "outputs": [],
   "source": [
    "last_simulation['infecteds_history.parquet']"
   ]
  },
  {
   "cell_type": "code",
   "execution_count": null,
   "metadata": {},
   "outputs": [],
   "source": []
  }
 ],
 "metadata": {
  "kernelspec": {
   "display_name": "Python 3",
   "language": "python",
   "name": "python3"
  },
  "language_info": {
   "codemirror_mode": {
    "name": "ipython",
    "version": 3
   },
   "file_extension": ".py",
   "mimetype": "text/x-python",
   "name": "python",
   "nbconvert_exporter": "python",
   "pygments_lexer": "ipython3",
   "version": "3.6.9"
  }
 },
 "nbformat": 4,
 "nbformat_minor": 4
}
